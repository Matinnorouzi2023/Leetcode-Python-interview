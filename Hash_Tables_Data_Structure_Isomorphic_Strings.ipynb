{
  "nbformat": 4,
  "nbformat_minor": 0,
  "metadata": {
    "colab": {
      "provenance": [],
      "authorship_tag": "ABX9TyMJf5no3Qt7LSSveioDekPg",
      "include_colab_link": true
    },
    "kernelspec": {
      "name": "python3",
      "display_name": "Python 3"
    },
    "language_info": {
      "name": "python"
    }
  },
  "cells": [
    {
      "cell_type": "markdown",
      "metadata": {
        "id": "view-in-github",
        "colab_type": "text"
      },
      "source": [
        "<a href=\"https://colab.research.google.com/github/Matinnorouzi2023/Leetcode-Python-interview/blob/main/Hash_Tables_Data_Structure_Isomorphic_Strings.ipynb\" target=\"_parent\"><img src=\"https://colab.research.google.com/assets/colab-badge.svg\" alt=\"Open In Colab\"/></a>"
      ]
    },
    {
      "cell_type": "markdown",
      "source": [
        "**Question 2:**\n",
        "\n",
        "---\n",
        "\n",
        "\n",
        "# Isomorphic Strings\n",
        "\n",
        " Given two strings s and t, determine if they are isomorphic.\n",
        "\n",
        " Two strings s and t are isomorphic if the characters in s can be replaced to get t.\n",
        "\n",
        " All occurrences of a character must be replaced with another character while preserving the order of characters. No two characters may map to the same character, but a character may map to itself. s and t consist of any valid ascii character.\n",
        "\n",
        "\n",
        "---\n",
        "\n",
        "\n",
        " **Example 1:**\n",
        "\n",
        "**Input:** s = \"egg\", t = \"add\"\n",
        "\n",
        "**Output:** true\n",
        "\n",
        "\n",
        "---\n",
        "\n",
        "\n",
        "\n",
        "**Example 2:**\n",
        "\n",
        "**Input:** s = \"foo\", t = \"bar\"\n",
        "\n",
        "**Output:** false\n",
        "\n",
        "\n",
        "---\n",
        "\n",
        "\n",
        "**Example 3:**\n",
        "\n",
        "**Input:** s = \"paper\", t = \"title\"\n",
        "\n",
        "**Output:** true\n"
      ],
      "metadata": {
        "id": "06GTyhvuDU_v"
      }
    },
    {
      "cell_type": "code",
      "execution_count": null,
      "metadata": {
        "id": "9W1JxksLDLhY"
      },
      "outputs": [],
      "source": [
        "def isomorphic_strings(s, t):\n",
        "    if len(s) != len(t):\n",
        "        return False\n",
        "    s_hash, t_hash = {}, {}\n",
        "    for i in range(len(s)):\n",
        "        char_s = s[i]\n",
        "        char_t = t[i]\n",
        "        if char_s not in s_hash:\n",
        "            s_hash[char_s] = char_t\n",
        "        if char_t not in t_hash:\n",
        "            t_hash[char_t] = char_s\n",
        "        if s_hash[char_s] != char_t or t_hash[char_t] != char_s:\n",
        "            return False\n",
        "    return True\n",
        "\n",
        "print(isomorphic_strings('aacad','bbdbe'))"
      ]
    },
    {
      "cell_type": "markdown",
      "source": [
        "# Time=O(n) Space=O(1)"
      ],
      "metadata": {
        "id": "DyWlRi74-KJA"
      }
    }
  ]
}