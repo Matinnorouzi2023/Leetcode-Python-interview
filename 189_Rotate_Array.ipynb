{
  "nbformat": 4,
  "nbformat_minor": 0,
  "metadata": {
    "colab": {
      "provenance": [],
      "toc_visible": true,
      "authorship_tag": "ABX9TyNh3nWV1h2rJ+foehyFGQof",
      "include_colab_link": true
    },
    "kernelspec": {
      "name": "python3",
      "display_name": "Python 3"
    },
    "language_info": {
      "name": "python"
    }
  },
  "cells": [
    {
      "cell_type": "markdown",
      "metadata": {
        "id": "view-in-github",
        "colab_type": "text"
      },
      "source": [
        "<a href=\"https://colab.research.google.com/github/Matinnorouzi2023/Leetcode-Python-interview/blob/main/189_Rotate_Array.ipynb\" target=\"_parent\"><img src=\"https://colab.research.google.com/assets/colab-badge.svg\" alt=\"Open In Colab\"/></a>"
      ]
    },
    {
      "cell_type": "markdown",
      "source": [
        "# 189. Rotate Array\n",
        "Medium **bold text**\n",
        "\n",
        "\n",
        "**Given an integer array nums, rotate the array to the right by k steps, where k is non-negative.**\n",
        "\n",
        "\n",
        "\n",
        "**Example 1:**\n",
        "\n",
        "Input: nums = [1,2,3,4,5,6,7], k = 3\n",
        "\n",
        "Output: [5,6,7,1,2,3,4]\n",
        "\n",
        "\n",
        "**Explanation:**\n",
        "\n",
        "rotate 1 steps to the right: [7,1,2,3,4,5,6]\n",
        "\n",
        "rotate 2 steps to the right: [6,7,1,2,3,4,5]\n",
        "\n",
        "rotate 3 steps to the right: [5,6,7,1,2,3,4]\n",
        "\n",
        "**Example 2:**\n",
        "\n",
        "Input: nums = [-1,-100,3,99], k = 2\n",
        "\n",
        "Output: [3,99,-1,-100]\n",
        "\n",
        "**Explanation:**\n",
        "\n",
        "rotate 1 steps to the right: [99,-1,-100,3]\n",
        "\n",
        "rotate 2 steps to the right: [3,99,-1,-100]\n"
      ],
      "metadata": {
        "id": "Qsaaw7JOjmoi"
      }
    },
    {
      "cell_type": "code",
      "execution_count": 26,
      "metadata": {
        "id": "cVXPPzFqjauB"
      },
      "outputs": [],
      "source": [
        "def rotate_array(array,k):\n",
        "    if len(array) == 0: return []\n",
        "    k=k%len(array)\n",
        "    temp = array[-k:]\n",
        "    for i in reversed(range(0,len(array)-k)):\n",
        "        array[i+k]=array[i]\n",
        "    for i in range(len(temp)):\n",
        "        array[i]=temp[i]\n",
        "    return array\n",
        "\n",
        "\n",
        "\n",
        "\n"
      ]
    },
    {
      "cell_type": "code",
      "source": [
        "print(rotate_array([1,2,3,4,5],3))"
      ],
      "metadata": {
        "colab": {
          "base_uri": "https://localhost:8080/"
        },
        "id": "LlU3-3XidRfi",
        "outputId": "010ac945-7bd4-4b58-803a-8adf9a83eb29"
      },
      "execution_count": 27,
      "outputs": [
        {
          "output_type": "stream",
          "name": "stdout",
          "text": [
            "[3, 4, 5, 1, 2]\n"
          ]
        }
      ]
    },
    {
      "cell_type": "markdown",
      "source": [
        "Time = O(n) Space = O(K)"
      ],
      "metadata": {
        "id": "vdxA9MvHc2my"
      }
    },
    {
      "cell_type": "code",
      "source": [
        "def reverse(array,start,end):\n",
        "    while(start<end):\n",
        "        array[start],array[end] = array[end], array[start]\n",
        "        start +=1\n",
        "        end -=1\n",
        "    return array\n",
        "\n",
        "\n",
        "def rotate_array(array,k):\n",
        "    if len(array) == 0: return []\n",
        "    k= k % len(array)\n",
        "    reverse(array, 0, len(array)-1)\n",
        "    reverse(array, 0, k-1)\n",
        "    reverse(array, k, len(array)-1)\n",
        "    return array\n",
        "\n",
        "\n"
      ],
      "metadata": {
        "id": "W1qTUhvzQCnT"
      },
      "execution_count": 29,
      "outputs": []
    },
    {
      "cell_type": "code",
      "source": [
        "print(rotate_array([1,2,3,4,5],3))"
      ],
      "metadata": {
        "colab": {
          "base_uri": "https://localhost:8080/"
        },
        "id": "JWWFqd27cpUt",
        "outputId": "72a5febd-8628-43ae-973a-45ebe1b82dbc"
      },
      "execution_count": 30,
      "outputs": [
        {
          "output_type": "stream",
          "name": "stdout",
          "text": [
            "[3, 4, 5, 1, 2]\n"
          ]
        }
      ]
    },
    {
      "cell_type": "markdown",
      "source": [],
      "metadata": {
        "id": "nptOd92UcY1S"
      }
    },
    {
      "cell_type": "markdown",
      "source": [
        "\n",
        "\n",
        "\n",
        "\n",
        "# Time = O(n) Space = O(1)"
      ],
      "metadata": {
        "id": "VFxfndYvQElI"
      }
    }
  ]
}