{
  "nbformat": 4,
  "nbformat_minor": 0,
  "metadata": {
    "colab": {
      "provenance": [],
      "toc_visible": true,
      "authorship_tag": "ABX9TyPM+EdNbGJ/L+2nlE2sytmk",
      "include_colab_link": true
    },
    "kernelspec": {
      "name": "python3",
      "display_name": "Python 3"
    },
    "language_info": {
      "name": "python"
    }
  },
  "cells": [
    {
      "cell_type": "markdown",
      "metadata": {
        "id": "view-in-github",
        "colab_type": "text"
      },
      "source": [
        "<a href=\"https://colab.research.google.com/github/Matinnorouzi2023/Leetcode-Python-interview/blob/main/189_Rotate_Array.ipynb\" target=\"_parent\"><img src=\"https://colab.research.google.com/assets/colab-badge.svg\" alt=\"Open In Colab\"/></a>"
      ]
    },
    {
      "cell_type": "markdown",
      "source": [
        "# 189. Rotate Array\n",
        "Medium **bold text**\n",
        "\n",
        "\n",
        "**Given an integer array nums, rotate the array to the right by k steps, where k is non-negative.**\n",
        "\n",
        "\n",
        "\n",
        "**Example 1:**\n",
        "\n",
        "Input: nums = [1,2,3,4,5,6,7], k = 3\n",
        "\n",
        "Output: [5,6,7,1,2,3,4]\n",
        "\n",
        "\n",
        "**Explanation:**\n",
        "\n",
        "rotate 1 steps to the right: [7,1,2,3,4,5,6]\n",
        "\n",
        "rotate 2 steps to the right: [6,7,1,2,3,4,5]\n",
        "\n",
        "rotate 3 steps to the right: [5,6,7,1,2,3,4]\n",
        "\n",
        "**Example 2:**\n",
        "\n",
        "Input: nums = [-1,-100,3,99], k = 2\n",
        "\n",
        "Output: [3,99,-1,-100]\n",
        "\n",
        "**Explanation:**\n",
        "\n",
        "rotate 1 steps to the right: [99,-1,-100,3]\n",
        "\n",
        "rotate 2 steps to the right: [3,99,-1,-100]\n"
      ],
      "metadata": {
        "id": "Qsaaw7JOjmoi"
      }
    },
    {
      "cell_type": "code",
      "execution_count": 16,
      "metadata": {
        "id": "cVXPPzFqjauB",
        "colab": {
          "base_uri": "https://localhost:8080/"
        },
        "outputId": "3d229548-be05-4b96-c805-bbb19c77f10b"
      },
      "outputs": [
        {
          "output_type": "stream",
          "name": "stdout",
          "text": [
            "[3, 4, 5, 1, 2]\n"
          ]
        }
      ],
      "source": [
        "def rotate_array(array,k):\n",
        "    if len(array) == 0: return []\n",
        "    k=k%len(array)\n",
        "    temp = array[-k:]\n",
        "    for i in reversed(range(0,len(array)-k)):\n",
        "        array[i+k]=array[i]\n",
        "    for i in range(len(temp)):\n",
        "        array[i]=temp[i]\n",
        "    return array\n",
        "\n",
        "\n",
        "print(rotate_array([1,2,3,4,5],3))\n",
        "\n"
      ]
    },
    {
      "cell_type": "markdown",
      "source": [
        "# **`Time = O(n) Space = O(K)`**"
      ],
      "metadata": {
        "id": "HTKh0hTjNmzb"
      }
    },
    {
      "cell_type": "code",
      "source": [
        "def reverse(array,start,end):\n",
        "    while(start<end):\n",
        "        array[start],array[end] = array[end], array[start]\n",
        "        start +=1\n",
        "        end -=1\n",
        "    return array\n",
        "\n",
        "def rotate_array(array,k):\n",
        "    if len(array) == 0: return []\n",
        "    k= k % len(array)\n",
        "    reverse(array, 0, len(array)-1)\n",
        "    reverse(array, 0, k-1)\n",
        "    reverse(array, k, len(array)-1)\n",
        "    return array\n",
        "\n",
        "print(rotate_array([1,2,3,4,5],3))"
      ],
      "metadata": {
        "colab": {
          "base_uri": "https://localhost:8080/"
        },
        "id": "W1qTUhvzQCnT",
        "outputId": "17b54936-bb11-4b36-db9d-1e4e23f8f137"
      },
      "execution_count": 17,
      "outputs": [
        {
          "output_type": "stream",
          "name": "stdout",
          "text": [
            "[3, 4, 5, 1, 2]\n"
          ]
        }
      ]
    },
    {
      "cell_type": "markdown",
      "source": [],
      "metadata": {
        "id": "nptOd92UcY1S"
      }
    },
    {
      "cell_type": "markdown",
      "source": [
        "\n",
        "\n",
        "\n",
        "\n",
        "# Time = O(n) Space = O(1)"
      ],
      "metadata": {
        "id": "VFxfndYvQElI"
      }
    }
  ]
}