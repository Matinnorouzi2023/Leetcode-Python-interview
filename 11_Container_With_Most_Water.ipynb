{
  "nbformat": 4,
  "nbformat_minor": 0,
  "metadata": {
    "colab": {
      "provenance": [],
      "authorship_tag": "ABX9TyOSmxkkYxr/6C/877pdtJr2",
      "include_colab_link": true
    },
    "kernelspec": {
      "name": "python3",
      "display_name": "Python 3"
    },
    "language_info": {
      "name": "python"
    }
  },
  "cells": [
    {
      "cell_type": "markdown",
      "metadata": {
        "id": "view-in-github",
        "colab_type": "text"
      },
      "source": [
        "<a href=\"https://colab.research.google.com/github/Matinnorouzi2023/Leetcode-Python-interview/blob/main/11_Container_With_Most_Water.ipynb\" target=\"_parent\"><img src=\"https://colab.research.google.com/assets/colab-badge.svg\" alt=\"Open In Colab\"/></a>"
      ]
    },
    {
      "cell_type": "markdown",
      "source": [
        "**Container With Most Water **\n",
        "Medium\n",
        "\n",
        "# You are given an integer array height of length n. There are n vertical lines drawn such that the two endpoints of the ith line are (i, 0) and (i, height[i]).\n",
        "\n",
        "# Find two lines that together with the x-axis form a container, such that the container contains the most water.\n",
        "\n",
        "# Return the maximum amount of water a container can store.\n",
        "\n",
        "**Notice** that you may not slant the container.\n",
        "\n",
        "**Try**\n",
        "\n",
        "To optimise your solution . In case you approached this question with the Brute force method your Time Complexity might be O(n^2).\n",
        "\n",
        "Try to write a better solution with Time Complexity O(n)\n",
        "\n",
        "\n",
        "**Example 1:**\n",
        "\n",
        "**Input:**\n",
        " height = [1,8,6,2,5,4,8,3,7]\n",
        "\n",
        "**Output:**\n",
        " 49\n",
        "\n",
        "**Explanation:** The above vertical lines are represented by array [1,8,6,2,5,4,8,3,7]. In this case, the max area of water (blue section) the container can contain is 49.\n",
        "\n",
        "\n",
        "\n",
        "**Example 2:**\n",
        "\n",
        "**Input:** height = [1,1]\n",
        "\n",
        "**Output:** 1\n",
        "\n"
      ],
      "metadata": {
        "id": "0WonT7ZgiPGt"
      }
    },
    {
      "cell_type": "code",
      "execution_count": 1,
      "metadata": {
        "id": "tFagB9yUhNXN",
        "colab": {
          "base_uri": "https://localhost:8080/"
        },
        "outputId": "40fc27a8-c905-4716-8560-4badd781dc32"
      },
      "outputs": [
        {
          "output_type": "stream",
          "name": "stdout",
          "text": [
            "21\n"
          ]
        }
      ],
      "source": [
        "#Method 1\n",
        "\n",
        "def max_area(array):\n",
        "    max_area = 0\n",
        "    for i in range(len(array)-1):\n",
        "        for j in range(i+1,len(array)):\n",
        "            area = min(array[i],array[j])*(j-i)\n",
        "            max_area = max(max_area,area)\n",
        "    return max_area\n",
        "\n",
        "\n",
        "print(max_area([3,7,5,6,8,4]))"
      ]
    }
  ]
}