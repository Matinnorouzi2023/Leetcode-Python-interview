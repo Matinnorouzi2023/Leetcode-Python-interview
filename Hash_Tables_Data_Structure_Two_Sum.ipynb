{
  "nbformat": 4,
  "nbformat_minor": 0,
  "metadata": {
    "colab": {
      "provenance": [],
      "authorship_tag": "ABX9TyNQRFMNqD5N9kO/mEv2FSEE",
      "include_colab_link": true
    },
    "kernelspec": {
      "name": "python3",
      "display_name": "Python 3"
    },
    "language_info": {
      "name": "python"
    }
  },
  "cells": [
    {
      "cell_type": "markdown",
      "metadata": {
        "id": "view-in-github",
        "colab_type": "text"
      },
      "source": [
        "<a href=\"https://colab.research.google.com/github/Matinnorouzi2023/Leetcode-Python-interview/blob/main/Hash_Tables_Data_Structure_Two_Sum.ipynb\" target=\"_parent\"><img src=\"https://colab.research.google.com/assets/colab-badge.svg\" alt=\"Open In Colab\"/></a>"
      ]
    },
    {
      "cell_type": "markdown",
      "source": [
        "**Question 1:**\n",
        "\n",
        "\n",
        "---\n",
        "\n",
        "\n",
        "# Two Sum\n",
        "\n",
        "You are given an array of Integers and another integer targetValue. Write a\n",
        "function that will take these inputs and return the indices of the 2 integers  in the array that add up targetValue.\n",
        "\n",
        "\n",
        "---\n",
        "\n",
        "\n",
        "Try to optimise your solution and arrive at a Time Complexity of O(n)"
      ],
      "metadata": {
        "id": "-EROYbsDChNZ"
      }
    },
    {
      "cell_type": "code",
      "execution_count": 5,
      "metadata": {
        "colab": {
          "base_uri": "https://localhost:8080/"
        },
        "id": "Hm_UUOKJCbzA",
        "outputId": "1f77323a-cafb-409a-f1ce-95376db94669"
      },
      "outputs": [
        {
          "output_type": "stream",
          "name": "stdout",
          "text": [
            "[1, 2]\n"
          ]
        }
      ],
      "source": [
        "#Brute force solution\n",
        "def findindicestwosum(array,target):\n",
        "  for i in range(len(array)-1):\n",
        "   for j in range(i+1,len(array)):\n",
        "    if array[i]+array[j]==target :\n",
        "      return [i,j]\n",
        "\n",
        "  return []\n",
        "print(findindicestwosum([2,-1,5,3],4))"
      ]
    },
    {
      "cell_type": "markdown",
      "source": [
        "# Time=o(n*n) Space=O(1)"
      ],
      "metadata": {
        "id": "A5F16ErbqWPm"
      }
    },
    {
      "cell_type": "markdown",
      "source": [],
      "metadata": {
        "id": "ymcHNre_qe6x"
      }
    }
  ]
}