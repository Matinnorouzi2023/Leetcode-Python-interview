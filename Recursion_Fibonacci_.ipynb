{
  "nbformat": 4,
  "nbformat_minor": 0,
  "metadata": {
    "colab": {
      "provenance": [],
      "authorship_tag": "ABX9TyP3uBQhCWg5ErHQzijyickZ",
      "include_colab_link": true
    },
    "kernelspec": {
      "name": "python3",
      "display_name": "Python 3"
    },
    "language_info": {
      "name": "python"
    }
  },
  "cells": [
    {
      "cell_type": "markdown",
      "metadata": {
        "id": "view-in-github",
        "colab_type": "text"
      },
      "source": [
        "<a href=\"https://colab.research.google.com/github/Matinnorouzi2023/Leetcode-Python-interview/blob/main/Recursion_Fibonacci_.ipynb\" target=\"_parent\"><img src=\"https://colab.research.google.com/assets/colab-badge.svg\" alt=\"Open In Colab\"/></a>"
      ]
    },
    {
      "cell_type": "markdown",
      "source": [
        "# Question 1:\n",
        "\n",
        "** Fibonacci ** -In the Fibonacci sequence, each subsequent term is obtained by adding the preceding 2 terms. This is true for all the numbers except the first 2 numbers of the Fibonacci series as they do not have 2 preceding numbers. The first 2 terms in the Fibonacci series is 0 and 1. F(n) = F(n-1)+F(n-2) for n>1. Write a function that finds F(n) given n where n is an integer greater than equal to 0. For the first term n = 0.\n",
        "\n",
        "(You can assume that no negative value will be passed. )\n",
        "\n",
        "Try:\n",
        "\n",
        "Try to optimise your solution. We will be discussing 3 solutions\n",
        "\n",
        "Solution 1: T=O(2^n) , S=O(n)\n",
        "\n",
        "Solution 2: T=O(n) , S=O(n)\n",
        "\n",
        "Solution 3: T=O(n) , S=O(1) --- best"
      ],
      "metadata": {
        "id": "sOaUyi6JJtxW"
      }
    },
    {
      "cell_type": "code",
      "execution_count": 2,
      "metadata": {
        "colab": {
          "base_uri": "https://localhost:8080/"
        },
        "id": "uW-KpM3dJOH0",
        "outputId": "26ce6b29-bbe4-49fd-d5ac-917e0b3f0ea5"
      },
      "outputs": [
        {
          "output_type": "stream",
          "name": "stdout",
          "text": [
            "3\n"
          ]
        }
      ],
      "source": [
        "#Method 1:\n",
        "def fibonancci(n):\n",
        "  if n<=1 :\n",
        "    return n\n",
        "  else:\n",
        "    return fibonancci(n-1)+fibonancci(n-2)\n",
        "print(fibonancci(4))"
      ]
    },
    {
      "cell_type": "markdown",
      "source": [
        "#Solution 1: T=O(2^n) , S=O(n)"
      ],
      "metadata": {
        "id": "I61-t5QR-yyO"
      }
    },
    {
      "cell_type": "code",
      "source": [
        "#Method 2: store some answer of recursive and add in hashtable\n",
        "def fibonancci_2(n,ht={0:0,1:1}):\n",
        "  if n in ht:\n",
        "    return ht[n]\n",
        "  else:\n",
        "    ht[n]=fibonancci_2(n-1,ht)+fibonancci_2(n-2,ht)\n",
        "    return ht[n]\n",
        "print(fibonancci(4))"
      ],
      "metadata": {
        "colab": {
          "base_uri": "https://localhost:8080/"
        },
        "id": "AJqhBr3fF-Xi",
        "outputId": "51a4927f-2492-4615-d835-5c1c38ce4a4e"
      },
      "execution_count": 4,
      "outputs": [
        {
          "output_type": "stream",
          "name": "stdout",
          "text": [
            "3\n"
          ]
        }
      ]
    },
    {
      "cell_type": "markdown",
      "source": [
        "#Solution 2: T=O(n) , S=O(n)\n"
      ],
      "metadata": {
        "id": "b1Sv7dgwHJW8"
      }
    }
  ]
}