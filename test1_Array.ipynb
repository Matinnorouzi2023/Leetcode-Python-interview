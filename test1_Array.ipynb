{
  "nbformat": 4,
  "nbformat_minor": 0,
  "metadata": {
    "colab": {
      "provenance": [],
      "authorship_tag": "ABX9TyMuw2rMQK7w3ys4MoFwz/EX",
      "include_colab_link": true
    },
    "kernelspec": {
      "name": "python3",
      "display_name": "Python 3"
    },
    "language_info": {
      "name": "python"
    }
  },
  "cells": [
    {
      "cell_type": "markdown",
      "metadata": {
        "id": "view-in-github",
        "colab_type": "text"
      },
      "source": [
        "<a href=\"https://colab.research.google.com/github/Matinnorouzi2023/Leetcode-Python-interview/blob/main/test1_Array.ipynb\" target=\"_parent\"><img src=\"https://colab.research.google.com/assets/colab-badge.svg\" alt=\"Open In Colab\"/></a>"
      ]
    },
    {
      "cell_type": "code",
      "execution_count": 1,
      "metadata": {
        "colab": {
          "base_uri": "https://localhost:8080/"
        },
        "id": "jOP6rHL5nFWQ",
        "outputId": "331568eb-26b2-470d-8ab1-10ae4fb11f92"
      },
      "outputs": [
        {
          "output_type": "stream",
          "name": "stdout",
          "text": [
            "[1, 4, 25]\n",
            "[0, 1, 4]\n",
            "[]\n"
          ]
        }
      ],
      "source": [
        "def sorted_squared(array):\n",
        "    new_array = [0]*len(array)\n",
        "    for i in range(len(array)):\n",
        "        new_array[i] = array[i]**2\n",
        "        # new_array[i] = array[i]*array[i]\n",
        "    new_array.sort()\n",
        "    return new_array\n",
        "\n",
        "\n",
        "print(sorted_squared([-5, 1, 2]))\n",
        "print(sorted_squared([0, 1, 2]))\n",
        "print(sorted_squared([]))\n"
      ]
    }
  ]
}