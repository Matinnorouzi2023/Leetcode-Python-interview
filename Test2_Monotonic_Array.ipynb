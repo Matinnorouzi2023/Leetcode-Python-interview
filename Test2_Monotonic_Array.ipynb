{
  "nbformat": 4,
  "nbformat_minor": 0,
  "metadata": {
    "colab": {
      "provenance": [],
      "authorship_tag": "ABX9TyOBcWSE2OYhfBpDNU/Eqnwb",
      "include_colab_link": true
    },
    "kernelspec": {
      "name": "python3",
      "display_name": "Python 3"
    },
    "language_info": {
      "name": "python"
    }
  },
  "cells": [
    {
      "cell_type": "markdown",
      "metadata": {
        "id": "view-in-github",
        "colab_type": "text"
      },
      "source": [
        "<a href=\"https://colab.research.google.com/github/Matinnorouzi2023/Leetcode-Python-interview/blob/main/Test2_Monotonic_Array.ipynb\" target=\"_parent\"><img src=\"https://colab.research.google.com/assets/colab-badge.svg\" alt=\"Open In Colab\"/></a>"
      ]
    },
    {
      "cell_type": "markdown",
      "source": [
        "**Python: Monotonic Array Question** Coding Exercise - Python:\n",
        "\n",
        "An array is monotonic if it is either monotone increasing or monotone decreasing. An array is monotone increasing if all its elements from left to right are non-decreasing. An array is monotone decreasing if all  its elements from left to right are non-increasing. Given an integer array return true if the given array is monotonic, or false otherwise.     \n",
        "\n",
        "Example 1:\n",
        "\n",
        "Input: nums = [1,2,2,3]\n",
        "Output: true\n",
        "\n",
        "Example 2:\n",
        "\n",
        "Input: nums = [6,5,4,4]\n",
        "Output: true\n",
        "\n",
        "Example 3:\n",
        "\n",
        "Input: nums = [1,3,2]\n",
        "Output: false\n"
      ],
      "metadata": {
        "id": "5FwC-09UioMc"
      }
    },
    {
      "cell_type": "code",
      "execution_count": 3,
      "metadata": {
        "id": "4Vtg2Vgohzq6"
      },
      "outputs": [],
      "source": [
        "def monotonic_array(array):\n",
        "    if len(array) == 0:\n",
        "        return True\n",
        "    first = array[0]\n",
        "    last = array[len(array)-1]\n",
        "    if first > last:\n",
        "        for i in range(len(array)-1):\n",
        "            if array[i] < array[i+1]:\n",
        "                return False\n",
        "    elif first == last:\n",
        "        for i in range(len(array)-1):\n",
        "            if array[i] != array[i+1]:\n",
        "                return False\n",
        "    else:\n",
        "        for i in range(len(array)-1):\n",
        "            if array[i] > array[i+1]:\n",
        "                return False\n",
        "    return True"
      ]
    },
    {
      "cell_type": "markdown",
      "source": [
        "# Time = O(n) Space = O(n)"
      ],
      "metadata": {
        "id": "D_tbVefB9asf"
      }
    }
  ]
}