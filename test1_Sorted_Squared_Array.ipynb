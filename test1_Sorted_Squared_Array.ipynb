{
  "nbformat": 4,
  "nbformat_minor": 0,
  "metadata": {
    "colab": {
      "provenance": [],
      "authorship_tag": "ABX9TyNPD+OzHotqueKOD2AOfZeN",
      "include_colab_link": true
    },
    "kernelspec": {
      "name": "python3",
      "display_name": "Python 3"
    },
    "language_info": {
      "name": "python"
    }
  },
  "cells": [
    {
      "cell_type": "markdown",
      "metadata": {
        "id": "view-in-github",
        "colab_type": "text"
      },
      "source": [
        "<a href=\"https://colab.research.google.com/github/Matinnorouzi2023/Leetcode-Python-interview/blob/main/test1_Sorted_Squared_Array.ipynb\" target=\"_parent\"><img src=\"https://colab.research.google.com/assets/colab-badge.svg\" alt=\"Open In Colab\"/></a>"
      ]
    },
    {
      "cell_type": "markdown",
      "source": [
        "Question\n",
        "\n",
        "You are given an array of Integers in which each subsequent value is not less than the previous value. Write a function that takes this array as an input and returns a new array with the squares of each number sorted in ascending order.\n",
        "\n",
        "Remember\n",
        "\n",
        "You can solve this question in multiple ways.\n",
        "\n",
        "Think about the following -\n",
        "\n",
        "1.What would be the brute force way of solving this question ? What would be the Time and Space complexity of this approach?\n",
        "\n",
        "2.Is there a better way to solve this with a more optimum Time complexity than the Brute force way ?"
      ],
      "metadata": {
        "id": "1VLF_nSDrkQz"
      }
    },
    {
      "cell_type": "code",
      "execution_count": 1,
      "metadata": {
        "colab": {
          "base_uri": "https://localhost:8080/"
        },
        "id": "jOP6rHL5nFWQ",
        "outputId": "331568eb-26b2-470d-8ab1-10ae4fb11f92"
      },
      "outputs": [
        {
          "output_type": "stream",
          "name": "stdout",
          "text": [
            "[1, 4, 25]\n",
            "[0, 1, 4]\n",
            "[]\n"
          ]
        }
      ],
      "source": [
        "def sorted_squared(array):\n",
        "    new_array = [0]*len(array)\n",
        "    for i in range(len(array)):\n",
        "        new_array[i] = array[i]**2\n",
        "        # new_array[i] = array[i]*array[i]\n",
        "    new_array.sort()\n",
        "    return new_array\n",
        "\n",
        "\n",
        "print(sorted_squared([-5, 1, 2]))\n",
        "print(sorted_squared([0, 1, 2]))\n",
        "print(sorted_squared([]))\n"
      ]
    },
    {
      "cell_type": "markdown",
      "source": [
        "# Time = O(nlogn)  Space = O(n)"
      ],
      "metadata": {
        "id": "DcWL1ilunoZ1"
      }
    }
  ]
}